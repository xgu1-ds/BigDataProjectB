{
 "cells": [
  {
   "cell_type": "code",
   "execution_count": 47,
   "metadata": {
    "ExecuteTime": {
     "end_time": "2019-11-25T23:06:14.686865Z",
     "start_time": "2019-11-25T23:06:12.928355Z"
    }
   },
   "outputs": [],
   "source": [
    "import pandas as pd\n",
    "import datetime\n",
    "import matplotlib.pyplot as plt\n",
    "import numpy as np\n",
    "import seaborn as sn\n",
    "from pandas.tseries.holiday import USFederalHolidayCalendar as calendar\n",
    "#classifiaction.\n",
    "from sklearn.linear_model import LogisticRegression\n",
    "from sklearn.svm import LinearSVC,SVC\n",
    "from sklearn.neighbors import KNeighborsClassifier\n",
    "from sklearn.ensemble import RandomForestClassifier,GradientBoostingClassifier\n",
    "from sklearn.tree import DecisionTreeClassifier\n",
    "from sklearn.naive_bayes import GaussianNB\n",
    "\n",
    "#regression\n",
    "from sklearn.linear_model import LinearRegression,Ridge,Lasso,RidgeCV\n",
    "from sklearn.ensemble import RandomForestRegressor,BaggingRegressor,GradientBoostingRegressor,AdaBoostRegressor\n",
    "from sklearn.svm import SVR\n",
    "from sklearn.neighbors import KNeighborsRegressor\n",
    "\n",
    "#model selection\n",
    "from sklearn.model_selection import train_test_split,cross_validate\n",
    "from sklearn.model_selection import KFold\n",
    "from sklearn.model_selection import GridSearchCV\n",
    "\n",
    "#evaluation metrics\n",
    "from sklearn.metrics import mean_squared_log_error,mean_squared_error, r2_score,mean_absolute_error # for regression\n",
    "from sklearn.metrics import accuracy_score,precision_score,recall_score,f1_score  # for classification\n",
    " "
   ]
  },
  {
   "cell_type": "code",
   "execution_count": 9,
   "metadata": {
    "ExecuteTime": {
     "end_time": "2019-11-20T23:12:11.927654Z",
     "start_time": "2019-11-20T23:12:11.919162Z"
    }
   },
   "outputs": [],
   "source": [
    "files=['2019_01','2019_02','2019_03','2019_04','2019_05','2019_06','2019_07','2019_08','2019_09']\n",
    "\n",
    "def merge_data(trials_name):\n",
    "    merged=pd.DataFrame()\n",
    "    for name in trials_name:\n",
    "        name1=pd.read_csv(name+'.csv')\n",
    "        print('load'+name)\n",
    "        print(\"shape is\", name1.shape)\n",
    "        print(name1.columns)\n",
    "        merged=merged.append(name1, ignore_index=True, sort=False)\n",
    "        print('merge'+name)\n",
    "        print('shape is', merged.shape)\n",
    "        print(merged.columns)\n",
    "    return merged"
   ]
  },
  {
   "cell_type": "code",
   "execution_count": 10,
   "metadata": {
    "ExecuteTime": {
     "end_time": "2019-11-20T23:12:43.988415Z",
     "start_time": "2019-11-20T23:12:12.581748Z"
    }
   },
   "outputs": [
    {
     "name": "stdout",
     "output_type": "stream",
     "text": [
      "load2019_01\n",
      "shape is (583985, 33)\n",
      "Index(['MONTH', 'OP_UNIQUE_CARRIER', 'OP_CARRIER_AIRLINE_ID',\n",
      "       'ORIGIN_AIRPORT_ID', 'ORIGIN_CITY_MARKET_ID', 'ORIGIN',\n",
      "       'ORIGIN_CITY_NAME', 'ORIGIN_STATE_ABR', 'ORIGIN_STATE_NM', 'ORIGIN_WAC',\n",
      "       'DEST_AIRPORT_ID', 'DEST_CITY_MARKET_ID', 'DEST', 'DEST_CITY_NAME',\n",
      "       'DEST_STATE_ABR', 'DEST_STATE_NM', 'DEST_WAC', 'WHEELS_ON', 'TAXI_IN',\n",
      "       'CRS_ARR_TIME', 'ARR_TIME', 'ARR_DELAY', 'ARR_DELAY_NEW', 'ARR_DEL15',\n",
      "       'ARR_DELAY_GROUP', 'ARR_TIME_BLK', 'CRS_ELAPSED_TIME',\n",
      "       'ACTUAL_ELAPSED_TIME', 'AIR_TIME', 'FLIGHTS', 'DISTANCE',\n",
      "       'DISTANCE_GROUP', 'Unnamed: 32'],\n",
      "      dtype='object')\n",
      "merge2019_01\n",
      "shape is (583985, 33)\n",
      "Index(['MONTH', 'OP_UNIQUE_CARRIER', 'OP_CARRIER_AIRLINE_ID',\n",
      "       'ORIGIN_AIRPORT_ID', 'ORIGIN_CITY_MARKET_ID', 'ORIGIN',\n",
      "       'ORIGIN_CITY_NAME', 'ORIGIN_STATE_ABR', 'ORIGIN_STATE_NM', 'ORIGIN_WAC',\n",
      "       'DEST_AIRPORT_ID', 'DEST_CITY_MARKET_ID', 'DEST', 'DEST_CITY_NAME',\n",
      "       'DEST_STATE_ABR', 'DEST_STATE_NM', 'DEST_WAC', 'WHEELS_ON', 'TAXI_IN',\n",
      "       'CRS_ARR_TIME', 'ARR_TIME', 'ARR_DELAY', 'ARR_DELAY_NEW', 'ARR_DEL15',\n",
      "       'ARR_DELAY_GROUP', 'ARR_TIME_BLK', 'CRS_ELAPSED_TIME',\n",
      "       'ACTUAL_ELAPSED_TIME', 'AIR_TIME', 'FLIGHTS', 'DISTANCE',\n",
      "       'DISTANCE_GROUP', 'Unnamed: 32'],\n",
      "      dtype='object')\n",
      "load2019_02\n",
      "shape is (533175, 33)\n",
      "Index(['MONTH', 'OP_UNIQUE_CARRIER', 'OP_CARRIER_AIRLINE_ID',\n",
      "       'ORIGIN_AIRPORT_ID', 'ORIGIN_CITY_MARKET_ID', 'ORIGIN',\n",
      "       'ORIGIN_CITY_NAME', 'ORIGIN_STATE_ABR', 'ORIGIN_STATE_NM', 'ORIGIN_WAC',\n",
      "       'DEST_AIRPORT_ID', 'DEST_CITY_MARKET_ID', 'DEST', 'DEST_CITY_NAME',\n",
      "       'DEST_STATE_ABR', 'DEST_STATE_NM', 'DEST_WAC', 'WHEELS_ON', 'TAXI_IN',\n",
      "       'CRS_ARR_TIME', 'ARR_TIME', 'ARR_DELAY', 'ARR_DELAY_NEW', 'ARR_DEL15',\n",
      "       'ARR_DELAY_GROUP', 'ARR_TIME_BLK', 'CRS_ELAPSED_TIME',\n",
      "       'ACTUAL_ELAPSED_TIME', 'AIR_TIME', 'FLIGHTS', 'DISTANCE',\n",
      "       'DISTANCE_GROUP', 'Unnamed: 32'],\n",
      "      dtype='object')\n",
      "merge2019_02\n",
      "shape is (1117160, 33)\n",
      "Index(['MONTH', 'OP_UNIQUE_CARRIER', 'OP_CARRIER_AIRLINE_ID',\n",
      "       'ORIGIN_AIRPORT_ID', 'ORIGIN_CITY_MARKET_ID', 'ORIGIN',\n",
      "       'ORIGIN_CITY_NAME', 'ORIGIN_STATE_ABR', 'ORIGIN_STATE_NM', 'ORIGIN_WAC',\n",
      "       'DEST_AIRPORT_ID', 'DEST_CITY_MARKET_ID', 'DEST', 'DEST_CITY_NAME',\n",
      "       'DEST_STATE_ABR', 'DEST_STATE_NM', 'DEST_WAC', 'WHEELS_ON', 'TAXI_IN',\n",
      "       'CRS_ARR_TIME', 'ARR_TIME', 'ARR_DELAY', 'ARR_DELAY_NEW', 'ARR_DEL15',\n",
      "       'ARR_DELAY_GROUP', 'ARR_TIME_BLK', 'CRS_ELAPSED_TIME',\n",
      "       'ACTUAL_ELAPSED_TIME', 'AIR_TIME', 'FLIGHTS', 'DISTANCE',\n",
      "       'DISTANCE_GROUP', 'Unnamed: 32'],\n",
      "      dtype='object')\n",
      "load2019_03\n",
      "shape is (632074, 33)\n",
      "Index(['MONTH', 'OP_UNIQUE_CARRIER', 'OP_CARRIER_AIRLINE_ID',\n",
      "       'ORIGIN_AIRPORT_ID', 'ORIGIN_CITY_MARKET_ID', 'ORIGIN',\n",
      "       'ORIGIN_CITY_NAME', 'ORIGIN_STATE_ABR', 'ORIGIN_STATE_NM', 'ORIGIN_WAC',\n",
      "       'DEST_AIRPORT_ID', 'DEST_CITY_MARKET_ID', 'DEST', 'DEST_CITY_NAME',\n",
      "       'DEST_STATE_ABR', 'DEST_STATE_NM', 'DEST_WAC', 'WHEELS_ON', 'TAXI_IN',\n",
      "       'CRS_ARR_TIME', 'ARR_TIME', 'ARR_DELAY', 'ARR_DELAY_NEW', 'ARR_DEL15',\n",
      "       'ARR_DELAY_GROUP', 'ARR_TIME_BLK', 'CRS_ELAPSED_TIME',\n",
      "       'ACTUAL_ELAPSED_TIME', 'AIR_TIME', 'FLIGHTS', 'DISTANCE',\n",
      "       'DISTANCE_GROUP', 'Unnamed: 32'],\n",
      "      dtype='object')\n",
      "merge2019_03\n",
      "shape is (1749234, 33)\n",
      "Index(['MONTH', 'OP_UNIQUE_CARRIER', 'OP_CARRIER_AIRLINE_ID',\n",
      "       'ORIGIN_AIRPORT_ID', 'ORIGIN_CITY_MARKET_ID', 'ORIGIN',\n",
      "       'ORIGIN_CITY_NAME', 'ORIGIN_STATE_ABR', 'ORIGIN_STATE_NM', 'ORIGIN_WAC',\n",
      "       'DEST_AIRPORT_ID', 'DEST_CITY_MARKET_ID', 'DEST', 'DEST_CITY_NAME',\n",
      "       'DEST_STATE_ABR', 'DEST_STATE_NM', 'DEST_WAC', 'WHEELS_ON', 'TAXI_IN',\n",
      "       'CRS_ARR_TIME', 'ARR_TIME', 'ARR_DELAY', 'ARR_DELAY_NEW', 'ARR_DEL15',\n",
      "       'ARR_DELAY_GROUP', 'ARR_TIME_BLK', 'CRS_ELAPSED_TIME',\n",
      "       'ACTUAL_ELAPSED_TIME', 'AIR_TIME', 'FLIGHTS', 'DISTANCE',\n",
      "       'DISTANCE_GROUP', 'Unnamed: 32'],\n",
      "      dtype='object')\n",
      "load2019_04\n",
      "shape is (612023, 33)\n",
      "Index(['MONTH', 'OP_UNIQUE_CARRIER', 'OP_CARRIER_AIRLINE_ID',\n",
      "       'ORIGIN_AIRPORT_ID', 'ORIGIN_CITY_MARKET_ID', 'ORIGIN',\n",
      "       'ORIGIN_CITY_NAME', 'ORIGIN_STATE_ABR', 'ORIGIN_STATE_NM', 'ORIGIN_WAC',\n",
      "       'DEST_AIRPORT_ID', 'DEST_CITY_MARKET_ID', 'DEST', 'DEST_CITY_NAME',\n",
      "       'DEST_STATE_ABR', 'DEST_STATE_NM', 'DEST_WAC', 'WHEELS_ON', 'TAXI_IN',\n",
      "       'CRS_ARR_TIME', 'ARR_TIME', 'ARR_DELAY', 'ARR_DELAY_NEW', 'ARR_DEL15',\n",
      "       'ARR_DELAY_GROUP', 'ARR_TIME_BLK', 'CRS_ELAPSED_TIME',\n",
      "       'ACTUAL_ELAPSED_TIME', 'AIR_TIME', 'FLIGHTS', 'DISTANCE',\n",
      "       'DISTANCE_GROUP', 'Unnamed: 32'],\n",
      "      dtype='object')\n",
      "merge2019_04\n",
      "shape is (2361257, 33)\n",
      "Index(['MONTH', 'OP_UNIQUE_CARRIER', 'OP_CARRIER_AIRLINE_ID',\n",
      "       'ORIGIN_AIRPORT_ID', 'ORIGIN_CITY_MARKET_ID', 'ORIGIN',\n",
      "       'ORIGIN_CITY_NAME', 'ORIGIN_STATE_ABR', 'ORIGIN_STATE_NM', 'ORIGIN_WAC',\n",
      "       'DEST_AIRPORT_ID', 'DEST_CITY_MARKET_ID', 'DEST', 'DEST_CITY_NAME',\n",
      "       'DEST_STATE_ABR', 'DEST_STATE_NM', 'DEST_WAC', 'WHEELS_ON', 'TAXI_IN',\n",
      "       'CRS_ARR_TIME', 'ARR_TIME', 'ARR_DELAY', 'ARR_DELAY_NEW', 'ARR_DEL15',\n",
      "       'ARR_DELAY_GROUP', 'ARR_TIME_BLK', 'CRS_ELAPSED_TIME',\n",
      "       'ACTUAL_ELAPSED_TIME', 'AIR_TIME', 'FLIGHTS', 'DISTANCE',\n",
      "       'DISTANCE_GROUP', 'Unnamed: 32'],\n",
      "      dtype='object')\n",
      "load2019_05\n",
      "shape is (636390, 33)\n",
      "Index(['MONTH', 'OP_UNIQUE_CARRIER', 'OP_CARRIER_AIRLINE_ID',\n",
      "       'ORIGIN_AIRPORT_ID', 'ORIGIN_CITY_MARKET_ID', 'ORIGIN',\n",
      "       'ORIGIN_CITY_NAME', 'ORIGIN_STATE_ABR', 'ORIGIN_STATE_NM', 'ORIGIN_WAC',\n",
      "       'DEST_AIRPORT_ID', 'DEST_CITY_MARKET_ID', 'DEST', 'DEST_CITY_NAME',\n",
      "       'DEST_STATE_ABR', 'DEST_STATE_NM', 'DEST_WAC', 'WHEELS_ON', 'TAXI_IN',\n",
      "       'CRS_ARR_TIME', 'ARR_TIME', 'ARR_DELAY', 'ARR_DELAY_NEW', 'ARR_DEL15',\n",
      "       'ARR_DELAY_GROUP', 'ARR_TIME_BLK', 'CRS_ELAPSED_TIME',\n",
      "       'ACTUAL_ELAPSED_TIME', 'AIR_TIME', 'FLIGHTS', 'DISTANCE',\n",
      "       'DISTANCE_GROUP', 'Unnamed: 32'],\n",
      "      dtype='object')\n",
      "merge2019_05\n",
      "shape is (2997647, 33)\n",
      "Index(['MONTH', 'OP_UNIQUE_CARRIER', 'OP_CARRIER_AIRLINE_ID',\n",
      "       'ORIGIN_AIRPORT_ID', 'ORIGIN_CITY_MARKET_ID', 'ORIGIN',\n",
      "       'ORIGIN_CITY_NAME', 'ORIGIN_STATE_ABR', 'ORIGIN_STATE_NM', 'ORIGIN_WAC',\n",
      "       'DEST_AIRPORT_ID', 'DEST_CITY_MARKET_ID', 'DEST', 'DEST_CITY_NAME',\n",
      "       'DEST_STATE_ABR', 'DEST_STATE_NM', 'DEST_WAC', 'WHEELS_ON', 'TAXI_IN',\n",
      "       'CRS_ARR_TIME', 'ARR_TIME', 'ARR_DELAY', 'ARR_DELAY_NEW', 'ARR_DEL15',\n",
      "       'ARR_DELAY_GROUP', 'ARR_TIME_BLK', 'CRS_ELAPSED_TIME',\n",
      "       'ACTUAL_ELAPSED_TIME', 'AIR_TIME', 'FLIGHTS', 'DISTANCE',\n",
      "       'DISTANCE_GROUP', 'Unnamed: 32'],\n",
      "      dtype='object')\n",
      "load2019_06\n",
      "shape is (636691, 33)\n",
      "Index(['MONTH', 'OP_UNIQUE_CARRIER', 'OP_CARRIER_AIRLINE_ID',\n",
      "       'ORIGIN_AIRPORT_ID', 'ORIGIN_CITY_MARKET_ID', 'ORIGIN',\n",
      "       'ORIGIN_CITY_NAME', 'ORIGIN_STATE_ABR', 'ORIGIN_STATE_NM', 'ORIGIN_WAC',\n",
      "       'DEST_AIRPORT_ID', 'DEST_CITY_MARKET_ID', 'DEST', 'DEST_CITY_NAME',\n",
      "       'DEST_STATE_ABR', 'DEST_STATE_NM', 'DEST_WAC', 'WHEELS_ON', 'TAXI_IN',\n",
      "       'CRS_ARR_TIME', 'ARR_TIME', 'ARR_DELAY', 'ARR_DELAY_NEW', 'ARR_DEL15',\n",
      "       'ARR_DELAY_GROUP', 'ARR_TIME_BLK', 'CRS_ELAPSED_TIME',\n",
      "       'ACTUAL_ELAPSED_TIME', 'AIR_TIME', 'FLIGHTS', 'DISTANCE',\n",
      "       'DISTANCE_GROUP', 'Unnamed: 32'],\n",
      "      dtype='object')\n",
      "merge2019_06\n",
      "shape is (3634338, 33)\n",
      "Index(['MONTH', 'OP_UNIQUE_CARRIER', 'OP_CARRIER_AIRLINE_ID',\n",
      "       'ORIGIN_AIRPORT_ID', 'ORIGIN_CITY_MARKET_ID', 'ORIGIN',\n",
      "       'ORIGIN_CITY_NAME', 'ORIGIN_STATE_ABR', 'ORIGIN_STATE_NM', 'ORIGIN_WAC',\n",
      "       'DEST_AIRPORT_ID', 'DEST_CITY_MARKET_ID', 'DEST', 'DEST_CITY_NAME',\n",
      "       'DEST_STATE_ABR', 'DEST_STATE_NM', 'DEST_WAC', 'WHEELS_ON', 'TAXI_IN',\n",
      "       'CRS_ARR_TIME', 'ARR_TIME', 'ARR_DELAY', 'ARR_DELAY_NEW', 'ARR_DEL15',\n",
      "       'ARR_DELAY_GROUP', 'ARR_TIME_BLK', 'CRS_ELAPSED_TIME',\n",
      "       'ACTUAL_ELAPSED_TIME', 'AIR_TIME', 'FLIGHTS', 'DISTANCE',\n",
      "       'DISTANCE_GROUP', 'Unnamed: 32'],\n",
      "      dtype='object')\n",
      "load2019_07\n",
      "shape is (659029, 33)\n",
      "Index(['MONTH', 'OP_UNIQUE_CARRIER', 'OP_CARRIER_AIRLINE_ID',\n",
      "       'ORIGIN_AIRPORT_ID', 'ORIGIN_CITY_MARKET_ID', 'ORIGIN',\n",
      "       'ORIGIN_CITY_NAME', 'ORIGIN_STATE_ABR', 'ORIGIN_STATE_NM', 'ORIGIN_WAC',\n",
      "       'DEST_AIRPORT_ID', 'DEST_CITY_MARKET_ID', 'DEST', 'DEST_CITY_NAME',\n",
      "       'DEST_STATE_ABR', 'DEST_STATE_NM', 'DEST_WAC', 'WHEELS_ON', 'TAXI_IN',\n",
      "       'CRS_ARR_TIME', 'ARR_TIME', 'ARR_DELAY', 'ARR_DELAY_NEW', 'ARR_DEL15',\n",
      "       'ARR_DELAY_GROUP', 'ARR_TIME_BLK', 'CRS_ELAPSED_TIME',\n",
      "       'ACTUAL_ELAPSED_TIME', 'AIR_TIME', 'FLIGHTS', 'DISTANCE',\n",
      "       'DISTANCE_GROUP', 'Unnamed: 32'],\n",
      "      dtype='object')\n"
     ]
    },
    {
     "name": "stdout",
     "output_type": "stream",
     "text": [
      "merge2019_07\n",
      "shape is (4293367, 33)\n",
      "Index(['MONTH', 'OP_UNIQUE_CARRIER', 'OP_CARRIER_AIRLINE_ID',\n",
      "       'ORIGIN_AIRPORT_ID', 'ORIGIN_CITY_MARKET_ID', 'ORIGIN',\n",
      "       'ORIGIN_CITY_NAME', 'ORIGIN_STATE_ABR', 'ORIGIN_STATE_NM', 'ORIGIN_WAC',\n",
      "       'DEST_AIRPORT_ID', 'DEST_CITY_MARKET_ID', 'DEST', 'DEST_CITY_NAME',\n",
      "       'DEST_STATE_ABR', 'DEST_STATE_NM', 'DEST_WAC', 'WHEELS_ON', 'TAXI_IN',\n",
      "       'CRS_ARR_TIME', 'ARR_TIME', 'ARR_DELAY', 'ARR_DELAY_NEW', 'ARR_DEL15',\n",
      "       'ARR_DELAY_GROUP', 'ARR_TIME_BLK', 'CRS_ELAPSED_TIME',\n",
      "       'ACTUAL_ELAPSED_TIME', 'AIR_TIME', 'FLIGHTS', 'DISTANCE',\n",
      "       'DISTANCE_GROUP', 'Unnamed: 32'],\n",
      "      dtype='object')\n",
      "load2019_08\n",
      "shape is (658461, 33)\n",
      "Index(['MONTH', 'OP_UNIQUE_CARRIER', 'OP_CARRIER_AIRLINE_ID',\n",
      "       'ORIGIN_AIRPORT_ID', 'ORIGIN_CITY_MARKET_ID', 'ORIGIN',\n",
      "       'ORIGIN_CITY_NAME', 'ORIGIN_STATE_ABR', 'ORIGIN_STATE_NM', 'ORIGIN_WAC',\n",
      "       'DEST_AIRPORT_ID', 'DEST_CITY_MARKET_ID', 'DEST', 'DEST_CITY_NAME',\n",
      "       'DEST_STATE_ABR', 'DEST_STATE_NM', 'DEST_WAC', 'WHEELS_ON', 'TAXI_IN',\n",
      "       'CRS_ARR_TIME', 'ARR_TIME', 'ARR_DELAY', 'ARR_DELAY_NEW', 'ARR_DEL15',\n",
      "       'ARR_DELAY_GROUP', 'ARR_TIME_BLK', 'CRS_ELAPSED_TIME',\n",
      "       'ACTUAL_ELAPSED_TIME', 'AIR_TIME', 'FLIGHTS', 'DISTANCE',\n",
      "       'DISTANCE_GROUP', 'Unnamed: 32'],\n",
      "      dtype='object')\n",
      "merge2019_08\n",
      "shape is (4951828, 33)\n",
      "Index(['MONTH', 'OP_UNIQUE_CARRIER', 'OP_CARRIER_AIRLINE_ID',\n",
      "       'ORIGIN_AIRPORT_ID', 'ORIGIN_CITY_MARKET_ID', 'ORIGIN',\n",
      "       'ORIGIN_CITY_NAME', 'ORIGIN_STATE_ABR', 'ORIGIN_STATE_NM', 'ORIGIN_WAC',\n",
      "       'DEST_AIRPORT_ID', 'DEST_CITY_MARKET_ID', 'DEST', 'DEST_CITY_NAME',\n",
      "       'DEST_STATE_ABR', 'DEST_STATE_NM', 'DEST_WAC', 'WHEELS_ON', 'TAXI_IN',\n",
      "       'CRS_ARR_TIME', 'ARR_TIME', 'ARR_DELAY', 'ARR_DELAY_NEW', 'ARR_DEL15',\n",
      "       'ARR_DELAY_GROUP', 'ARR_TIME_BLK', 'CRS_ELAPSED_TIME',\n",
      "       'ACTUAL_ELAPSED_TIME', 'AIR_TIME', 'FLIGHTS', 'DISTANCE',\n",
      "       'DISTANCE_GROUP', 'Unnamed: 32'],\n",
      "      dtype='object')\n",
      "load2019_09\n",
      "shape is (605979, 33)\n",
      "Index(['MONTH', 'OP_UNIQUE_CARRIER', 'OP_CARRIER_AIRLINE_ID',\n",
      "       'ORIGIN_AIRPORT_ID', 'ORIGIN_CITY_MARKET_ID', 'ORIGIN',\n",
      "       'ORIGIN_CITY_NAME', 'ORIGIN_STATE_ABR', 'ORIGIN_STATE_NM', 'ORIGIN_WAC',\n",
      "       'DEST_AIRPORT_ID', 'DEST_CITY_MARKET_ID', 'DEST', 'DEST_CITY_NAME',\n",
      "       'DEST_STATE_ABR', 'DEST_STATE_NM', 'DEST_WAC', 'WHEELS_ON', 'TAXI_IN',\n",
      "       'CRS_ARR_TIME', 'ARR_TIME', 'ARR_DELAY', 'ARR_DELAY_NEW', 'ARR_DEL15',\n",
      "       'ARR_DELAY_GROUP', 'ARR_TIME_BLK', 'CRS_ELAPSED_TIME',\n",
      "       'ACTUAL_ELAPSED_TIME', 'AIR_TIME', 'FLIGHTS', 'DISTANCE',\n",
      "       'DISTANCE_GROUP', 'Unnamed: 32'],\n",
      "      dtype='object')\n",
      "merge2019_09\n",
      "shape is (5557807, 33)\n",
      "Index(['MONTH', 'OP_UNIQUE_CARRIER', 'OP_CARRIER_AIRLINE_ID',\n",
      "       'ORIGIN_AIRPORT_ID', 'ORIGIN_CITY_MARKET_ID', 'ORIGIN',\n",
      "       'ORIGIN_CITY_NAME', 'ORIGIN_STATE_ABR', 'ORIGIN_STATE_NM', 'ORIGIN_WAC',\n",
      "       'DEST_AIRPORT_ID', 'DEST_CITY_MARKET_ID', 'DEST', 'DEST_CITY_NAME',\n",
      "       'DEST_STATE_ABR', 'DEST_STATE_NM', 'DEST_WAC', 'WHEELS_ON', 'TAXI_IN',\n",
      "       'CRS_ARR_TIME', 'ARR_TIME', 'ARR_DELAY', 'ARR_DELAY_NEW', 'ARR_DEL15',\n",
      "       'ARR_DELAY_GROUP', 'ARR_TIME_BLK', 'CRS_ELAPSED_TIME',\n",
      "       'ACTUAL_ELAPSED_TIME', 'AIR_TIME', 'FLIGHTS', 'DISTANCE',\n",
      "       'DISTANCE_GROUP', 'Unnamed: 32'],\n",
      "      dtype='object')\n"
     ]
    }
   ],
   "source": [
    "dataset=merge_data(files)"
   ]
  },
  {
   "cell_type": "code",
   "execution_count": 11,
   "metadata": {
    "ExecuteTime": {
     "end_time": "2019-11-20T23:15:15.341130Z",
     "start_time": "2019-11-20T23:15:15.308205Z"
    }
   },
   "outputs": [
    {
     "data": {
      "text/html": [
       "<div>\n",
       "<style scoped>\n",
       "    .dataframe tbody tr th:only-of-type {\n",
       "        vertical-align: middle;\n",
       "    }\n",
       "\n",
       "    .dataframe tbody tr th {\n",
       "        vertical-align: top;\n",
       "    }\n",
       "\n",
       "    .dataframe thead th {\n",
       "        text-align: right;\n",
       "    }\n",
       "</style>\n",
       "<table border=\"1\" class=\"dataframe\">\n",
       "  <thead>\n",
       "    <tr style=\"text-align: right;\">\n",
       "      <th></th>\n",
       "      <th>MONTH</th>\n",
       "      <th>OP_UNIQUE_CARRIER</th>\n",
       "      <th>OP_CARRIER_AIRLINE_ID</th>\n",
       "      <th>ORIGIN_AIRPORT_ID</th>\n",
       "      <th>ORIGIN_CITY_MARKET_ID</th>\n",
       "      <th>ORIGIN</th>\n",
       "      <th>ORIGIN_CITY_NAME</th>\n",
       "      <th>ORIGIN_STATE_ABR</th>\n",
       "      <th>ORIGIN_STATE_NM</th>\n",
       "      <th>ORIGIN_WAC</th>\n",
       "      <th>...</th>\n",
       "      <th>ARR_DEL15</th>\n",
       "      <th>ARR_DELAY_GROUP</th>\n",
       "      <th>ARR_TIME_BLK</th>\n",
       "      <th>CRS_ELAPSED_TIME</th>\n",
       "      <th>ACTUAL_ELAPSED_TIME</th>\n",
       "      <th>AIR_TIME</th>\n",
       "      <th>FLIGHTS</th>\n",
       "      <th>DISTANCE</th>\n",
       "      <th>DISTANCE_GROUP</th>\n",
       "      <th>Unnamed: 32</th>\n",
       "    </tr>\n",
       "  </thead>\n",
       "  <tbody>\n",
       "    <tr>\n",
       "      <th>0</th>\n",
       "      <td>1</td>\n",
       "      <td>9E</td>\n",
       "      <td>20363</td>\n",
       "      <td>13487</td>\n",
       "      <td>31650</td>\n",
       "      <td>MSP</td>\n",
       "      <td>Minneapolis, MN</td>\n",
       "      <td>MN</td>\n",
       "      <td>Minnesota</td>\n",
       "      <td>63</td>\n",
       "      <td>...</td>\n",
       "      <td>0.0</td>\n",
       "      <td>-2.0</td>\n",
       "      <td>1800-1859</td>\n",
       "      <td>121.0</td>\n",
       "      <td>106.0</td>\n",
       "      <td>87.0</td>\n",
       "      <td>1.0</td>\n",
       "      <td>596.0</td>\n",
       "      <td>3</td>\n",
       "      <td>NaN</td>\n",
       "    </tr>\n",
       "    <tr>\n",
       "      <th>1</th>\n",
       "      <td>1</td>\n",
       "      <td>9E</td>\n",
       "      <td>20363</td>\n",
       "      <td>13487</td>\n",
       "      <td>31650</td>\n",
       "      <td>MSP</td>\n",
       "      <td>Minneapolis, MN</td>\n",
       "      <td>MN</td>\n",
       "      <td>Minnesota</td>\n",
       "      <td>63</td>\n",
       "      <td>...</td>\n",
       "      <td>0.0</td>\n",
       "      <td>-2.0</td>\n",
       "      <td>1900-1959</td>\n",
       "      <td>126.0</td>\n",
       "      <td>93.0</td>\n",
       "      <td>76.0</td>\n",
       "      <td>1.0</td>\n",
       "      <td>596.0</td>\n",
       "      <td>3</td>\n",
       "      <td>NaN</td>\n",
       "    </tr>\n",
       "    <tr>\n",
       "      <th>2</th>\n",
       "      <td>1</td>\n",
       "      <td>9E</td>\n",
       "      <td>20363</td>\n",
       "      <td>13487</td>\n",
       "      <td>31650</td>\n",
       "      <td>MSP</td>\n",
       "      <td>Minneapolis, MN</td>\n",
       "      <td>MN</td>\n",
       "      <td>Minnesota</td>\n",
       "      <td>63</td>\n",
       "      <td>...</td>\n",
       "      <td>0.0</td>\n",
       "      <td>-2.0</td>\n",
       "      <td>1900-1959</td>\n",
       "      <td>126.0</td>\n",
       "      <td>118.0</td>\n",
       "      <td>76.0</td>\n",
       "      <td>1.0</td>\n",
       "      <td>596.0</td>\n",
       "      <td>3</td>\n",
       "      <td>NaN</td>\n",
       "    </tr>\n",
       "    <tr>\n",
       "      <th>3</th>\n",
       "      <td>1</td>\n",
       "      <td>9E</td>\n",
       "      <td>20363</td>\n",
       "      <td>13487</td>\n",
       "      <td>31650</td>\n",
       "      <td>MSP</td>\n",
       "      <td>Minneapolis, MN</td>\n",
       "      <td>MN</td>\n",
       "      <td>Minnesota</td>\n",
       "      <td>63</td>\n",
       "      <td>...</td>\n",
       "      <td>0.0</td>\n",
       "      <td>-2.0</td>\n",
       "      <td>1900-1959</td>\n",
       "      <td>126.0</td>\n",
       "      <td>107.0</td>\n",
       "      <td>81.0</td>\n",
       "      <td>1.0</td>\n",
       "      <td>596.0</td>\n",
       "      <td>3</td>\n",
       "      <td>NaN</td>\n",
       "    </tr>\n",
       "    <tr>\n",
       "      <th>4</th>\n",
       "      <td>1</td>\n",
       "      <td>9E</td>\n",
       "      <td>20363</td>\n",
       "      <td>13487</td>\n",
       "      <td>31650</td>\n",
       "      <td>MSP</td>\n",
       "      <td>Minneapolis, MN</td>\n",
       "      <td>MN</td>\n",
       "      <td>Minnesota</td>\n",
       "      <td>63</td>\n",
       "      <td>...</td>\n",
       "      <td>0.0</td>\n",
       "      <td>-1.0</td>\n",
       "      <td>1900-1959</td>\n",
       "      <td>126.0</td>\n",
       "      <td>120.0</td>\n",
       "      <td>92.0</td>\n",
       "      <td>1.0</td>\n",
       "      <td>596.0</td>\n",
       "      <td>3</td>\n",
       "      <td>NaN</td>\n",
       "    </tr>\n",
       "  </tbody>\n",
       "</table>\n",
       "<p>5 rows × 33 columns</p>\n",
       "</div>"
      ],
      "text/plain": [
       "   MONTH OP_UNIQUE_CARRIER  OP_CARRIER_AIRLINE_ID  ORIGIN_AIRPORT_ID  \\\n",
       "0      1                9E                  20363              13487   \n",
       "1      1                9E                  20363              13487   \n",
       "2      1                9E                  20363              13487   \n",
       "3      1                9E                  20363              13487   \n",
       "4      1                9E                  20363              13487   \n",
       "\n",
       "   ORIGIN_CITY_MARKET_ID ORIGIN ORIGIN_CITY_NAME ORIGIN_STATE_ABR  \\\n",
       "0                  31650    MSP  Minneapolis, MN               MN   \n",
       "1                  31650    MSP  Minneapolis, MN               MN   \n",
       "2                  31650    MSP  Minneapolis, MN               MN   \n",
       "3                  31650    MSP  Minneapolis, MN               MN   \n",
       "4                  31650    MSP  Minneapolis, MN               MN   \n",
       "\n",
       "  ORIGIN_STATE_NM  ORIGIN_WAC  ...  ARR_DEL15  ARR_DELAY_GROUP ARR_TIME_BLK  \\\n",
       "0       Minnesota          63  ...        0.0             -2.0    1800-1859   \n",
       "1       Minnesota          63  ...        0.0             -2.0    1900-1959   \n",
       "2       Minnesota          63  ...        0.0             -2.0    1900-1959   \n",
       "3       Minnesota          63  ...        0.0             -2.0    1900-1959   \n",
       "4       Minnesota          63  ...        0.0             -1.0    1900-1959   \n",
       "\n",
       "  CRS_ELAPSED_TIME ACTUAL_ELAPSED_TIME AIR_TIME  FLIGHTS  DISTANCE  \\\n",
       "0            121.0               106.0     87.0      1.0     596.0   \n",
       "1            126.0                93.0     76.0      1.0     596.0   \n",
       "2            126.0               118.0     76.0      1.0     596.0   \n",
       "3            126.0               107.0     81.0      1.0     596.0   \n",
       "4            126.0               120.0     92.0      1.0     596.0   \n",
       "\n",
       "   DISTANCE_GROUP  Unnamed: 32  \n",
       "0               3          NaN  \n",
       "1               3          NaN  \n",
       "2               3          NaN  \n",
       "3               3          NaN  \n",
       "4               3          NaN  \n",
       "\n",
       "[5 rows x 33 columns]"
      ]
     },
     "execution_count": 11,
     "metadata": {},
     "output_type": "execute_result"
    }
   ],
   "source": [
    "dataset.head(5)"
   ]
  },
  {
   "cell_type": "code",
   "execution_count": 14,
   "metadata": {
    "ExecuteTime": {
     "end_time": "2019-11-20T23:18:12.890674Z",
     "start_time": "2019-11-20T23:18:04.644287Z"
    }
   },
   "outputs": [],
   "source": [
    "dataset.to_pickle('dataset.pkl')"
   ]
  },
  {
   "cell_type": "markdown",
   "metadata": {
    "ExecuteTime": {
     "end_time": "2019-11-25T21:18:11.548178Z",
     "start_time": "2019-11-25T21:18:11.545146Z"
    }
   },
   "source": [
    "# bike project"
   ]
  },
  {
   "cell_type": "code",
   "execution_count": 44,
   "metadata": {
    "ExecuteTime": {
     "end_time": "2019-11-25T22:32:36.246650Z",
     "start_time": "2019-11-25T22:32:36.239628Z"
    }
   },
   "outputs": [],
   "source": [
    "files=['201901','201902','201903','201904','201905','201906','201907','201908','201909', '201910']\n",
    "\n",
    "def merge_data(trials_name):\n",
    "    merged=pd.DataFrame()\n",
    "    for name in trials_name:\n",
    "        a1=pd.read_csv(name+'.csv', parse_dates=['Start date','End date'])\n",
    "        a1=a1.groupby(pd.Grouper(key='Start date',freq='H')).agg({'Bike number':'count'}).reset_index()        \n",
    "        print(name)\n",
    "        print(a1.info())\n",
    "        merged=merged.append(a1, ignore_index=True, sort=False)\n",
    "        \n",
    "    dr = pd.date_range(start='2019-01-01', end='2019-10-31')\n",
    "    cal = calendar()\n",
    "    holidays = cal.holidays(start=dr.min(), end=dr.max())\n",
    "    # false is not a holiday, true is a holiday\n",
    "    merged['Holiday'] = merged['Start date'].isin(holidays)\n",
    "    merged['Holiday'] = (merged['Holiday']*1).astype('category')\n",
    "    # Monday to Sunday is 0 to 6\n",
    "    merged['weekday'] =merged['Start date'].dt.dayofweek.astype('category')\n",
    "    #Winter month(1) is 12, 1,2, Spring(2) is 3,4,5,, summer(3) is 6,7,8, fall(4) is 9,10,11\n",
    "    merged['Season']=((merged['Start date'].dt.month%12+3)//3).astype('category')\n",
    "    return merged"
   ]
  },
  {
   "cell_type": "code",
   "execution_count": 45,
   "metadata": {
    "ExecuteTime": {
     "end_time": "2019-11-25T22:33:39.247583Z",
     "start_time": "2019-11-25T22:32:37.191778Z"
    }
   },
   "outputs": [
    {
     "name": "stdout",
     "output_type": "stream",
     "text": [
      "201901\n",
      "<class 'pandas.core.frame.DataFrame'>\n",
      "RangeIndex: 744 entries, 0 to 743\n",
      "Data columns (total 2 columns):\n",
      "Start date     744 non-null datetime64[ns]\n",
      "Bike number    744 non-null int64\n",
      "dtypes: datetime64[ns](1), int64(1)\n",
      "memory usage: 11.7 KB\n",
      "None\n",
      "201902\n",
      "<class 'pandas.core.frame.DataFrame'>\n",
      "RangeIndex: 672 entries, 0 to 671\n",
      "Data columns (total 2 columns):\n",
      "Start date     672 non-null datetime64[ns]\n",
      "Bike number    672 non-null int64\n",
      "dtypes: datetime64[ns](1), int64(1)\n",
      "memory usage: 10.6 KB\n",
      "None\n",
      "201903\n",
      "<class 'pandas.core.frame.DataFrame'>\n",
      "RangeIndex: 744 entries, 0 to 743\n",
      "Data columns (total 2 columns):\n",
      "Start date     744 non-null datetime64[ns]\n",
      "Bike number    744 non-null int64\n",
      "dtypes: datetime64[ns](1), int64(1)\n",
      "memory usage: 11.7 KB\n",
      "None\n",
      "201904\n",
      "<class 'pandas.core.frame.DataFrame'>\n",
      "RangeIndex: 720 entries, 0 to 719\n",
      "Data columns (total 2 columns):\n",
      "Start date     720 non-null datetime64[ns]\n",
      "Bike number    720 non-null int64\n",
      "dtypes: datetime64[ns](1), int64(1)\n",
      "memory usage: 11.3 KB\n",
      "None\n",
      "201905\n",
      "<class 'pandas.core.frame.DataFrame'>\n",
      "RangeIndex: 744 entries, 0 to 743\n",
      "Data columns (total 2 columns):\n",
      "Start date     744 non-null datetime64[ns]\n",
      "Bike number    744 non-null int64\n",
      "dtypes: datetime64[ns](1), int64(1)\n",
      "memory usage: 11.7 KB\n",
      "None\n",
      "201906\n",
      "<class 'pandas.core.frame.DataFrame'>\n",
      "RangeIndex: 720 entries, 0 to 719\n",
      "Data columns (total 2 columns):\n",
      "Start date     720 non-null datetime64[ns]\n",
      "Bike number    720 non-null int64\n",
      "dtypes: datetime64[ns](1), int64(1)\n",
      "memory usage: 11.3 KB\n",
      "None\n",
      "201907\n",
      "<class 'pandas.core.frame.DataFrame'>\n",
      "RangeIndex: 744 entries, 0 to 743\n",
      "Data columns (total 2 columns):\n",
      "Start date     744 non-null datetime64[ns]\n",
      "Bike number    744 non-null int64\n",
      "dtypes: datetime64[ns](1), int64(1)\n",
      "memory usage: 11.7 KB\n",
      "None\n",
      "201908\n",
      "<class 'pandas.core.frame.DataFrame'>\n",
      "RangeIndex: 744 entries, 0 to 743\n",
      "Data columns (total 2 columns):\n",
      "Start date     744 non-null datetime64[ns]\n",
      "Bike number    744 non-null int64\n",
      "dtypes: datetime64[ns](1), int64(1)\n",
      "memory usage: 11.7 KB\n",
      "None\n",
      "201909\n",
      "<class 'pandas.core.frame.DataFrame'>\n",
      "RangeIndex: 720 entries, 0 to 719\n",
      "Data columns (total 2 columns):\n",
      "Start date     720 non-null datetime64[ns]\n",
      "Bike number    720 non-null int64\n",
      "dtypes: datetime64[ns](1), int64(1)\n",
      "memory usage: 11.3 KB\n",
      "None\n",
      "201910\n",
      "<class 'pandas.core.frame.DataFrame'>\n",
      "RangeIndex: 744 entries, 0 to 743\n",
      "Data columns (total 2 columns):\n",
      "Start date     744 non-null datetime64[ns]\n",
      "Bike number    744 non-null int64\n",
      "dtypes: datetime64[ns](1), int64(1)\n",
      "memory usage: 11.7 KB\n",
      "None\n"
     ]
    }
   ],
   "source": [
    "dataset=merge_data(files)"
   ]
  },
  {
   "cell_type": "code",
   "execution_count": 46,
   "metadata": {
    "ExecuteTime": {
     "end_time": "2019-11-25T22:33:52.878459Z",
     "start_time": "2019-11-25T22:33:52.871468Z"
    }
   },
   "outputs": [
    {
     "name": "stdout",
     "output_type": "stream",
     "text": [
      "<class 'pandas.core.frame.DataFrame'>\n",
      "RangeIndex: 7296 entries, 0 to 7295\n",
      "Data columns (total 5 columns):\n",
      "Start date     7296 non-null datetime64[ns]\n",
      "Bike number    7296 non-null int64\n",
      "Holiday        7296 non-null category\n",
      "weekday        7296 non-null category\n",
      "Season         7296 non-null category\n",
      "dtypes: category(3), datetime64[ns](1), int64(1)\n",
      "memory usage: 136.1 KB\n"
     ]
    }
   ],
   "source": [
    "dataset.info()"
   ]
  },
  {
   "cell_type": "code",
   "execution_count": 54,
   "metadata": {
    "ExecuteTime": {
     "end_time": "2019-11-25T23:17:31.054520Z",
     "start_time": "2019-11-25T23:17:31.050538Z"
    }
   },
   "outputs": [],
   "source": [
    "dataset['Hour']=dataset['Start date'].dt.hour #hour is from 0 to 23\n",
    "\n",
    "dataset['Month']=dataset['Start date'].dt.month\n",
    "\n",
    "dataset.drop('Start date',axis=1,inplace=True)"
   ]
  },
  {
   "cell_type": "code",
   "execution_count": 55,
   "metadata": {
    "ExecuteTime": {
     "end_time": "2019-11-25T23:17:52.565796Z",
     "start_time": "2019-11-25T23:17:52.556804Z"
    }
   },
   "outputs": [
    {
     "data": {
      "text/html": [
       "<div>\n",
       "<style scoped>\n",
       "    .dataframe tbody tr th:only-of-type {\n",
       "        vertical-align: middle;\n",
       "    }\n",
       "\n",
       "    .dataframe tbody tr th {\n",
       "        vertical-align: top;\n",
       "    }\n",
       "\n",
       "    .dataframe thead th {\n",
       "        text-align: right;\n",
       "    }\n",
       "</style>\n",
       "<table border=\"1\" class=\"dataframe\">\n",
       "  <thead>\n",
       "    <tr style=\"text-align: right;\">\n",
       "      <th></th>\n",
       "      <th>Bike number</th>\n",
       "      <th>Holiday</th>\n",
       "      <th>weekday</th>\n",
       "      <th>Season</th>\n",
       "      <th>Hour</th>\n",
       "      <th>Month</th>\n",
       "    </tr>\n",
       "  </thead>\n",
       "  <tbody>\n",
       "    <tr>\n",
       "      <th>0</th>\n",
       "      <td>60</td>\n",
       "      <td>1</td>\n",
       "      <td>1</td>\n",
       "      <td>1</td>\n",
       "      <td>0</td>\n",
       "      <td>1</td>\n",
       "    </tr>\n",
       "    <tr>\n",
       "      <th>1</th>\n",
       "      <td>107</td>\n",
       "      <td>0</td>\n",
       "      <td>1</td>\n",
       "      <td>1</td>\n",
       "      <td>1</td>\n",
       "      <td>1</td>\n",
       "    </tr>\n",
       "    <tr>\n",
       "      <th>2</th>\n",
       "      <td>102</td>\n",
       "      <td>0</td>\n",
       "      <td>1</td>\n",
       "      <td>1</td>\n",
       "      <td>2</td>\n",
       "      <td>1</td>\n",
       "    </tr>\n",
       "    <tr>\n",
       "      <th>3</th>\n",
       "      <td>25</td>\n",
       "      <td>0</td>\n",
       "      <td>1</td>\n",
       "      <td>1</td>\n",
       "      <td>3</td>\n",
       "      <td>1</td>\n",
       "    </tr>\n",
       "    <tr>\n",
       "      <th>4</th>\n",
       "      <td>14</td>\n",
       "      <td>0</td>\n",
       "      <td>1</td>\n",
       "      <td>1</td>\n",
       "      <td>4</td>\n",
       "      <td>1</td>\n",
       "    </tr>\n",
       "  </tbody>\n",
       "</table>\n",
       "</div>"
      ],
      "text/plain": [
       "   Bike number Holiday weekday Season  Hour  Month\n",
       "0           60       1       1      1     0      1\n",
       "1          107       0       1      1     1      1\n",
       "2          102       0       1      1     2      1\n",
       "3           25       0       1      1     3      1\n",
       "4           14       0       1      1     4      1"
      ]
     },
     "execution_count": 55,
     "metadata": {},
     "output_type": "execute_result"
    }
   ],
   "source": [
    "dataset.head(5)"
   ]
  },
  {
   "cell_type": "code",
   "execution_count": 56,
   "metadata": {
    "ExecuteTime": {
     "end_time": "2019-11-25T23:18:32.877816Z",
     "start_time": "2019-11-25T23:18:32.869294Z"
    }
   },
   "outputs": [],
   "source": [
    "x_train,x_test,y_train,y_test=train_test_split(dataset.drop('Bike number',axis=1),dataset['Bike number'],test_size=0.25,random_state=42)"
   ]
  },
  {
   "cell_type": "code",
   "execution_count": 62,
   "metadata": {
    "ExecuteTime": {
     "end_time": "2019-11-25T23:36:35.245729Z",
     "start_time": "2019-11-25T23:36:33.878533Z"
    }
   },
   "outputs": [
    {
     "name": "stderr",
     "output_type": "stream",
     "text": [
      "C:\\ProgramData\\Anaconda3\\lib\\site-packages\\sklearn\\ensemble\\forest.py:246: FutureWarning: The default value of n_estimators will change from 10 in version 0.20 to 100 in 0.22.\n",
      "  \"10 in version 0.20 to 100 in 0.22.\", FutureWarning)\n",
      "C:\\ProgramData\\Anaconda3\\lib\\site-packages\\sklearn\\svm\\base.py:196: FutureWarning: The default value of gamma will change from 'auto' to 'scale' in version 0.22 to account better for unscaled features. Set gamma explicitly to 'auto' or 'scale' to avoid this warning.\n",
      "  \"avoid this warning.\", FutureWarning)\n"
     ]
    },
    {
     "name": "stdout",
     "output_type": "stream",
     "text": [
      "          Modelling Algo            mse\n",
      "0  RandomForestRegressor   24129.511737\n",
      "1      AdaBoostRegressor   52277.638554\n",
      "2       BaggingRegressor   24043.419677\n",
      "3                    SVR  106023.796024\n",
      "4    KNeighborsRegressor   22590.231623\n",
      "5       LinearRegression  116463.371426\n"
     ]
    }
   ],
   "source": [
    "models=[RandomForestRegressor(),AdaBoostRegressor(),BaggingRegressor(),SVR(),KNeighborsRegressor(), LinearRegression()]\n",
    "model_names=['RandomForestRegressor','AdaBoostRegressor','BaggingRegressor','SVR','KNeighborsRegressor', 'LinearRegression']\n",
    "mse=[]\n",
    "acc=[]\n",
    "for i in range (len(models)):\n",
    "    clf=models[i]\n",
    "    clf.fit(x_train,y_train)\n",
    "    test_pred=clf.predict(x_test)\n",
    "    mse.append(mean_squared_error(test_pred,y_test))\n",
    "    #acc.append(accuracy_score(test_pred, y_test))\n",
    "rmsle_frame=pd.DataFrame({'Modelling Algo':model_names,'mse':mse})\n",
    "print(rmsle_frame)"
   ]
  },
  {
   "cell_type": "code",
   "execution_count": 65,
   "metadata": {
    "ExecuteTime": {
     "end_time": "2019-11-25T23:45:47.131055Z",
     "start_time": "2019-11-25T23:45:47.091450Z"
    }
   },
   "outputs": [
    {
     "name": "stdout",
     "output_type": "stream",
     "text": [
      "     Modelling Algo            mse\n",
      "0  LinearRegression  116463.371426\n",
      "1             Ridge  116466.359030\n",
      "2             Lasso  116476.484192\n"
     ]
    }
   ],
   "source": [
    "models=[LinearRegression(), Ridge(), Lasso()]\n",
    "model_names=['LinearRegression', 'Ridge', 'Lasso']\n",
    "mse=[]\n",
    "for i in range(len(models)):\n",
    "    clf=models[i]\n",
    "    clf.fit(x_train, y_train)\n",
    "    test_pred=clf.predict(x_test)\n",
    "    mse.append(mean_squared_error(test_pred,y_test))\n",
    "mse_frame=pd.DataFrame({'Modelling Algo':model_names,'mse':mse})\n",
    "print(mse_frame)"
   ]
  },
  {
   "cell_type": "code",
   "execution_count": 68,
   "metadata": {
    "ExecuteTime": {
     "end_time": "2019-11-26T00:11:17.721901Z",
     "start_time": "2019-11-26T00:11:17.358468Z"
    }
   },
   "outputs": [
    {
     "name": "stdout",
     "output_type": "stream",
     "text": [
      "{'alpha': 400, 'max_iter': 3000}\n",
      "mse:  116476.17390768466\n"
     ]
    }
   ],
   "source": [
    "ridge_m = Ridge(random_state=42)\n",
    "ridge_params = { 'max_iter':[3000],'alpha':[1, 10,100,200,300,400,800,900,1000]}\n",
    "gs_ridge_m = GridSearchCV( ridge_m,ridge_params,scoring = 'neg_mean_squared_error',cv=5)\n",
    "gs_ridge_m.fit( x_train, y_train )\n",
    "test_pred = gs_ridge_m.predict(x_test)\n",
    "print (gs_ridge_m.best_params_)\n",
    "print (\"mse: \", mean_squared_error(test_pred, y_test))"
   ]
  },
  {
   "cell_type": "code",
   "execution_count": null,
   "metadata": {},
   "outputs": [],
   "source": []
  }
 ],
 "metadata": {
  "kernelspec": {
   "display_name": "Python 3",
   "language": "python",
   "name": "python3"
  },
  "language_info": {
   "codemirror_mode": {
    "name": "ipython",
    "version": 3
   },
   "file_extension": ".py",
   "mimetype": "text/x-python",
   "name": "python",
   "nbconvert_exporter": "python",
   "pygments_lexer": "ipython3",
   "version": "3.7.3"
  },
  "toc": {
   "base_numbering": 1,
   "nav_menu": {},
   "number_sections": true,
   "sideBar": true,
   "skip_h1_title": true,
   "title_cell": "Table of Contents",
   "title_sidebar": "Contents",
   "toc_cell": false,
   "toc_position": {},
   "toc_section_display": true,
   "toc_window_display": false
  },
  "varInspector": {
   "cols": {
    "lenName": 16,
    "lenType": 16,
    "lenVar": 40
   },
   "kernels_config": {
    "python": {
     "delete_cmd_postfix": "",
     "delete_cmd_prefix": "del ",
     "library": "var_list.py",
     "varRefreshCmd": "print(var_dic_list())"
    },
    "r": {
     "delete_cmd_postfix": ") ",
     "delete_cmd_prefix": "rm(",
     "library": "var_list.r",
     "varRefreshCmd": "cat(var_dic_list()) "
    }
   },
   "types_to_exclude": [
    "module",
    "function",
    "builtin_function_or_method",
    "instance",
    "_Feature"
   ],
   "window_display": false
  }
 },
 "nbformat": 4,
 "nbformat_minor": 2
}
